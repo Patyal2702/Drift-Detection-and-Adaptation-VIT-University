{
  "nbformat": 4,
  "nbformat_minor": 0,
  "metadata": {
    "colab": {
      "provenance": [],
      "authorship_tag": "ABX9TyP1zl6ro+gxLpdQKpJVcJdw",
      "include_colab_link": true
    },
    "kernelspec": {
      "name": "python3",
      "display_name": "Python 3"
    },
    "language_info": {
      "name": "python"
    }
  },
  "cells": [
    {
      "cell_type": "markdown",
      "metadata": {
        "id": "view-in-github",
        "colab_type": "text"
      },
      "source": [
        "<a href=\"https://colab.research.google.com/github/mehtasaurav/Drift-Detection-and-Adaptation-VIT-University/blob/main/adaptive_learning.ipynb\" target=\"_parent\"><img src=\"https://colab.research.google.com/assets/colab-badge.svg\" alt=\"Open In Colab\"/></a>"
      ]
    },
    {
      "cell_type": "code",
      "execution_count": null,
      "metadata": {
        "id": "FhtgoOzVsKbu"
      },
      "outputs": [],
      "source": [
        "def adaptive_learning(model, X_train, y_train, X_test, y_test):\n",
        "    metric = metrics.Accuracy() # Use accuracy as the metric\n",
        "    i = 0 # count the number of evaluated data points\n",
        "    t = [] # record the number of evaluated data points\n",
        "    m = [] # record the real-time accuracy\n",
        "    yt = [] # record all the true labels of the test set\n",
        "    yp = [] # record all the predicted labels of the test set\n",
        "\n",
        "    # Learn the training set\n",
        "    for xi1, yi1 in stream.iter_pandas(X_train, y_train):\n",
        "        model.learn_one(xi1,yi1) \n",
        "\n",
        "    # Predict the test set\n",
        "    for xi, yi in stream.iter_pandas(X_test, y_test):\n",
        "        y_pred= model.predict_one(xi)  # Predict the test sample\n",
        "        model.learn_one(xi,yi) # Learn the test sample\n",
        "        metric = metric.update(yi, y_pred) # Update the real-time accuracy\n",
        "        t.append(i)\n",
        "        m.append(metric.get()*100)\n",
        "        yt.append(yi)\n",
        "        yp.append(y_pred)\n",
        "        i = i+1\n",
        "    print(\"Accuracy: \"+str(round(accuracy_score(yt,yp),4)*100)+\"%\")\n",
        "    print(\"Precision: \"+str(round(precision_score(yt,yp),4)*100)+\"%\")\n",
        "    print(\"Recall: \"+str(round(recall_score(yt,yp),4)*100)+\"%\")\n",
        "    print(\"F1-score: \"+str(round(f1_score(yt,yp),4)*100)+\"%\")\n",
        "    return t, m\n",
        "\n",
        "# Define a figure function that shows the real-time accuracy changes\n",
        "def acc_fig(t, m, name):\n",
        "    plt.rcParams.update({'font.size': 15})\n",
        "    plt.figure(1,figsize=(10,6)) \n",
        "    sns.set_style(\"darkgrid\")\n",
        "    plt.clf() \n",
        "    plt.plot(t,m,'-b',label='Avg Accuracy: %.2f%%'%(m[-1]))\n",
        "\n",
        "    plt.legend(loc='best')\n",
        "    plt.title(name+' on IoTID20 dataset', fontsize=15)\n",
        "    plt.xlabel('Number of samples')\n",
        "    plt.ylabel('Accuracy (%)')\n",
        "\n",
        "    plt.draw()"
      ]
    }
  ]
}