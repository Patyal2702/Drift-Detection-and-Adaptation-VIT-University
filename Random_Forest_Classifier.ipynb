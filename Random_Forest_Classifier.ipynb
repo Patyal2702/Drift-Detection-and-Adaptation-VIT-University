{
  "nbformat": 4,
  "nbformat_minor": 0,
  "metadata": {
    "colab": {
      "provenance": [],
      "authorship_tag": "ABX9TyPGyudU0IXgcC7uYaWsf8xd",
      "include_colab_link": true
    },
    "kernelspec": {
      "name": "python3",
      "display_name": "Python 3"
    },
    "language_info": {
      "name": "python"
    }
  },
  "cells": [
    {
      "cell_type": "markdown",
      "metadata": {
        "id": "view-in-github",
        "colab_type": "text"
      },
      "source": [
        "<a href=\"https://colab.research.google.com/github/mehtasaurav/Drift-Detection-and-Adaptation-VIT-University/blob/main/Random_Forest_Classifier.ipynb\" target=\"_parent\"><img src=\"https://colab.research.google.com/assets/colab-badge.svg\" alt=\"Open In Colab\"/></a>"
      ]
    },
    {
      "cell_type": "code",
      "source": [
        "import time\n",
        "import pandas as pd\n",
        "import seaborn as sns\n",
        "import numpy as np\n",
        "from sklearn.ensemble import RandomForestClassifier\n",
        "from sklearn.metrics import accuracy_score\n",
        "import matplotlib.pyplot as plt\n",
        "from sklearn.model_selection import train_test_split"
      ],
      "metadata": {
        "id": "SCK8hFKLLTMy"
      },
      "execution_count": null,
      "outputs": []
    },
    {
      "cell_type": "code",
      "execution_count": null,
      "metadata": {
        "id": "sFXM_d22A4gR"
      },
      "outputs": [],
      "source": [
        "# Load the dataset\n",
        "dataset = pd.read_csv(file_name)\n",
        "\n",
        "# Split the dataset into a training set and a test set\n",
        "X_train, X_test, y_train, y_test = train_test_split(dataset, dataset[\"Label\"], test_size=0.2)\n",
        "\n",
        "# Train the random forest model on the training set\n",
        "model = RandomForestClassifier(n_estimators=100, max_depth=5)\n",
        "model.fit(X_train, y_train)\n",
        "\n",
        "# Evaluate the accuracy of the model on the test set\n",
        "# Evaluate the accuracy of the model on the test set\n",
        "y_pred = model.predict(X_test)\n",
        "accuracy = accuracy_score(y_test, y_pred)\n",
        "print(\"Accuracy:\", accuracy * 100, \"%\")\n",
        "\n",
        "# Predict the labels of the test set\n",
        "start = time.time()\n",
        "y_pred = model.predict(X_test)\n",
        "end = time.time()\n",
        "total_time = end - start\n",
        "print(\"Total time taken to predict the labels of the test set:\", total_time)\n"
      ]
    },
    {
      "cell_type": "code",
      "source": [
        "import matplotlib.pyplot as plt\n",
        "print(\"Making Graph Please Wait...\")\n",
        "# Create an empty list to store the accuracy values\n",
        "accuracy_values = []\n",
        "\n",
        "# Evaluate the accuracy of the model at every test set point\n",
        "for i in range(len(X_test)):\n",
        "    X_test_point = X_test.iloc[[i]]\n",
        "    y_test_point = y_test.iloc[[i]]\n",
        "    accuracy = model.score(X_test_point, y_test_point)\n",
        "    accuracy_values.append(accuracy)\n",
        "\n",
        "# Plot the accuracy values\n",
        "plt.plot(accuracy_values)\n",
        "plt.xlabel(\"Test set point\")\n",
        "plt.ylabel(\"Accuracy\")\n",
        "plt.title(\"Accuracy\")\n",
        "\n",
        "# Display accuracy at the top corner\n",
        "max_accuracy = max(accuracy_values)\n",
        "plt.text(len(X_test) - 1, max_accuracy, f\"Accuracy: {max_accuracy:.2f}\", ha=\"right\", va=\"top\")\n",
        "\n",
        "plt.show()\n"
      ],
      "metadata": {
        "id": "HVulfMzBPjiM"
      },
      "execution_count": null,
      "outputs": []
    }
  ]
}