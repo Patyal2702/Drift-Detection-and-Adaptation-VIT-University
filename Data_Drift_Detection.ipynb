{
  "nbformat": 4,
  "nbformat_minor": 0,
  "metadata": {
    "colab": {
      "provenance": [],
      "authorship_tag": "ABX9TyPh4VCh4mz/OdGTAeEfcqbI",
      "include_colab_link": true
    },
    "kernelspec": {
      "name": "python3",
      "display_name": "Python 3"
    },
    "language_info": {
      "name": "python"
    }
  },
  "cells": [
    {
      "cell_type": "markdown",
      "metadata": {
        "id": "view-in-github",
        "colab_type": "text"
      },
      "source": [
        "<a href=\"https://colab.research.google.com/github/mehtasaurav/Drift-Detection-and-Adaptation-VIT-University/blob/main/Data_Drift_Detection.ipynb\" target=\"_parent\"><img src=\"https://colab.research.google.com/assets/colab-badge.svg\" alt=\"Open In Colab\"/></a>"
      ]
    },
    {
      "cell_type": "code",
      "source": [
        "import warnings\n",
        "warnings.filterwarnings('ignore')"
      ],
      "metadata": {
        "id": "6PpCwGMFHaJl"
      },
      "execution_count": null,
      "outputs": []
    },
    {
      "cell_type": "code",
      "source": [
        "alpha = 0.01\n",
        "# Convert X_train to a NumPy array\n",
        "X_train_np = np.array(X_train)\n",
        "X_test_np = np.array(X_test_noisy)"
      ],
      "metadata": {
        "id": "I2Tq7p6kEiXz"
      },
      "execution_count": null,
      "outputs": []
    },
    {
      "cell_type": "code",
      "source": [
        "# Fit the detector on the NumPy array\n",
        "detector = MMD(\n",
        "    callbacks=[\n",
        "        PermutationTestOnBatchData(\n",
        "            num_permutations=1000,\n",
        "            random_state=31,\n",
        "            num_jobs=-1,\n",
        "            name=\"permutation_test\",\n",
        "            verbose=False,\n",
        "        ),\n",
        "    ],\n",
        ")\n",
        "_ = detector.fit(X=X_train_np)"
      ],
      "metadata": {
        "id": "1f5a2gBIEpln"
      },
      "execution_count": null,
      "outputs": []
    },
    {
      "cell_type": "code",
      "source": [
        "\n",
        "pipeline = Pipeline(\n",
        "    steps=[\n",
        "        (\"scale\", StandardScaler()),\n",
        "        (\"model\", RandomForestClassifier(random_state=31)),\n",
        "    ],\n",
        ")\n",
        "pipeline.fit(X=X_train, y=y_train)"
      ],
      "metadata": {
        "id": "DITawpNiErv3"
      },
      "execution_count": null,
      "outputs": []
    },
    {
      "cell_type": "code",
      "source": [
        "\n",
        "y_pred = pipeline.predict(X=X_test_np)\n",
        "p_value = detector.compare(X=X_test_np)[1][\"permutation_test\"][\"p_value\"]\n",
        "print(f\"p-value: {round(p_value, 4)}\")\n",
        "if p_value < alpha:\n",
        "    print(\"Data drift detected\")\n",
        "else:\n",
        "    print(\"No data drift detected\")"
      ],
      "metadata": {
        "id": "pD_DySl8E0MT"
      },
      "execution_count": null,
      "outputs": []
    }
  ]
}