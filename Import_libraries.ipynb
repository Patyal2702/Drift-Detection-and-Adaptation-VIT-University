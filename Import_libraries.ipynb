{
  "nbformat": 4,
  "nbformat_minor": 0,
  "metadata": {
    "colab": {
      "provenance": [],
      "authorship_tag": "ABX9TyNuEfvA4XKSv7RL81HKCrk3",
      "include_colab_link": true
    },
    "kernelspec": {
      "name": "python3",
      "display_name": "Python 3"
    },
    "language_info": {
      "name": "python"
    }
  },
  "cells": [
    {
      "cell_type": "markdown",
      "metadata": {
        "id": "view-in-github",
        "colab_type": "text"
      },
      "source": [
        "<a href=\"https://colab.research.google.com/github/mehtasaurav/Drift-Detection-and-Adaptation-VIT-University/blob/main/Import_libraries.ipynb\" target=\"_parent\"><img src=\"https://colab.research.google.com/assets/colab-badge.svg\" alt=\"Open In Colab\"/></a>"
      ]
    },
    {
      "cell_type": "code",
      "source": [
        "import time\n",
        "import pandas as pd\n",
        "import seaborn as sns\n",
        "import numpy as np\n",
        "import csv\n",
        "from IPython.display import display\n",
        "from tqdm import tqdm\n",
        "import ipywidgets as widgets\n",
        "from IPython.display import display, HTML\n",
        "from sklearn.ensemble import RandomForestClassifier\n",
        "from sklearn.metrics import accuracy_score\n",
        "from sklearn.pipeline import Pipeline\n",
        "from sklearn.linear_model import LogisticRegression\n",
        "import matplotlib.pyplot as plt\n",
        "from sklearn.preprocessing import StandardScaler\n",
        "from sklearn.model_selection import train_test_split\n",
        "from sklearn.tree import DecisionTreeClassifier"
      ],
      "metadata": {
        "id": "vRZyxN4jNmaK"
      },
      "execution_count": 3,
      "outputs": []
    },
    {
      "cell_type": "code",
      "source": [
        "!pip install frouros"
      ],
      "metadata": {
        "colab": {
          "base_uri": "https://localhost:8080/"
        },
        "id": "clJtr7IWT_4X",
        "outputId": "fff50937-faec-4755-8d4a-e0b2fc4c31fa"
      },
      "execution_count": null,
      "outputs": [
        {
          "output_type": "stream",
          "name": "stdout",
          "text": [
            "Looking in indexes: https://pypi.org/simple, https://us-python.pkg.dev/colab-wheels/public/simple/\n",
            "Requirement already satisfied: frouros in /usr/local/lib/python3.10/dist-packages (0.2.7)\n",
            "Requirement already satisfied: matplotlib<3.7,>=3.6.0 in /usr/local/lib/python3.10/dist-packages (from frouros) (3.6.3)\n",
            "Requirement already satisfied: numpy<1.25,>=1.24.0 in /usr/local/lib/python3.10/dist-packages (from frouros) (1.24.3)\n",
            "Requirement already satisfied: requests<2.29,>=2.28.0 in /usr/local/lib/python3.10/dist-packages (from frouros) (2.28.2)\n",
            "Requirement already satisfied: scipy<1.11,>=1.10.0 in /usr/local/lib/python3.10/dist-packages (from frouros) (1.10.1)\n",
            "Requirement already satisfied: tqdm<4.65,>=4.64.0 in /usr/local/lib/python3.10/dist-packages (from frouros) (4.64.1)\n",
            "Requirement already satisfied: contourpy>=1.0.1 in /usr/local/lib/python3.10/dist-packages (from matplotlib<3.7,>=3.6.0->frouros) (1.0.7)\n",
            "Requirement already satisfied: cycler>=0.10 in /usr/local/lib/python3.10/dist-packages (from matplotlib<3.7,>=3.6.0->frouros) (0.11.0)\n",
            "Requirement already satisfied: fonttools>=4.22.0 in /usr/local/lib/python3.10/dist-packages (from matplotlib<3.7,>=3.6.0->frouros) (4.39.3)\n",
            "Requirement already satisfied: kiwisolver>=1.0.1 in /usr/local/lib/python3.10/dist-packages (from matplotlib<3.7,>=3.6.0->frouros) (1.4.4)\n",
            "Requirement already satisfied: packaging>=20.0 in /usr/local/lib/python3.10/dist-packages (from matplotlib<3.7,>=3.6.0->frouros) (23.1)\n",
            "Requirement already satisfied: pillow>=6.2.0 in /usr/local/lib/python3.10/dist-packages (from matplotlib<3.7,>=3.6.0->frouros) (8.4.0)\n",
            "Requirement already satisfied: pyparsing>=2.2.1 in /usr/local/lib/python3.10/dist-packages (from matplotlib<3.7,>=3.6.0->frouros) (3.0.9)\n",
            "Requirement already satisfied: python-dateutil>=2.7 in /usr/local/lib/python3.10/dist-packages (from matplotlib<3.7,>=3.6.0->frouros) (2.8.2)\n",
            "Requirement already satisfied: charset-normalizer<4,>=2 in /usr/local/lib/python3.10/dist-packages (from requests<2.29,>=2.28.0->frouros) (2.0.12)\n",
            "Requirement already satisfied: idna<4,>=2.5 in /usr/local/lib/python3.10/dist-packages (from requests<2.29,>=2.28.0->frouros) (3.4)\n",
            "Requirement already satisfied: urllib3<1.27,>=1.21.1 in /usr/local/lib/python3.10/dist-packages (from requests<2.29,>=2.28.0->frouros) (1.26.15)\n",
            "Requirement already satisfied: certifi>=2017.4.17 in /usr/local/lib/python3.10/dist-packages (from requests<2.29,>=2.28.0->frouros) (2022.12.7)\n",
            "Requirement already satisfied: six>=1.5 in /usr/local/lib/python3.10/dist-packages (from python-dateutil>=2.7->matplotlib<3.7,>=3.6.0->frouros) (1.16.0)\n"
          ]
        }
      ]
    },
    {
      "cell_type": "code",
      "execution_count": null,
      "metadata": {
        "id": "ER07OIVq5nMC"
      },
      "outputs": [],
      "source": [
        "from frouros.callbacks.batch import PermutationTestOnBatchData\n",
        "from frouros.detectors.data_drift import MMD"
      ]
    }
  ]
}