{
  "nbformat": 4,
  "nbformat_minor": 0,
  "metadata": {
    "colab": {
      "provenance": [],
      "include_colab_link": true
    },
    "kernelspec": {
      "name": "python3",
      "display_name": "Python 3"
    },
    "language_info": {
      "name": "python"
    }
  },
  "cells": [
    {
      "cell_type": "markdown",
      "metadata": {
        "id": "view-in-github",
        "colab_type": "text"
      },
      "source": [
        "<a href=\"https://colab.research.google.com/github/mehtasaurav/Drift-Detection-and-Adaptation-VIT-University/blob/main/concept_drift_detection.ipynb\" target=\"_parent\"><img src=\"https://colab.research.google.com/assets/colab-badge.svg\" alt=\"Open In Colab\"/></a>"
      ]
    },
    {
      "cell_type": "code",
      "execution_count": null,
      "metadata": {
        "id": "Bi1DLRXvZtxC"
      },
      "outputs": [],
      "source": [
        "# IMPORTANT: Induce/simulate concept drift in the last part (20%)\n",
        "# of y_test by modifying some labels (50% approx). Therefore, changing P(y|X))\n",
        "drift_size = int(y_test.shape[0] * 0.2)\n",
        "y_test_drift = y_test[-drift_size:]\n",
        "modify_idx = np.random.rand(*y_test_drift.shape) <= 0.5\n",
        "y_test_drift[modify_idx] = (y_test_drift[modify_idx] + 1) % len(np.unique(y_test))\n",
        "y_test[-drift_size:] = y_test_drift\n",
        "\n",
        "# Define and fit model\n",
        "pipeline = Pipeline([(\"scaler\", StandardScaler()), (\"model\", LogisticRegression())])\n",
        "pipeline.fit(X_train, y_train)\n",
        "\n",
        "# Detector configuration and instantiation\n",
        "config = DDMConfig(warning_level=2.0, drift_level=3.0, min_num_instances=30,)\n",
        "detector = DDM(config=config)\n",
        "\n",
        "# Simulate data stream (assuming test label available after prediction)\n",
        "X_test = np.array(X_test)\n",
        "y_preds = []\n",
        "y_trues = []\n",
        "drift_indexes = []\n",
        "for i, (X, y_true) in enumerate(zip(X_test, y_test)):\n",
        "    y_pred = pipeline.predict(X.reshape(1, -1))\n",
        "    y_preds.append(y_pred)\n",
        "    y_trues.append(y_true)\n",
        "    error = 1 - int(y_pred == y_true)\n",
        "    detector.update(value=error)\n",
        "    status = detector.status\n",
        "    if status[\"drift\"]:\n",
        "        print(f\"Drift detected at index {i}\")\n",
        "        break\n",
        "\n",
        "# Evaluation metrics\n",
        "accuracy = accuracy_score(y_trues, y_preds)\n",
        "precision = precision_score(y_trues, y_preds, average=\"weighted\")\n",
        "recall = recall_score(y_trues, y_preds, average=\"weighted\")\n",
        "f1 = f1_score(y_trues, y_preds, average=\"weighted\")\n",
        "\n",
        "print(f\"Accuracy: {accuracy*100:.3f}\"+\"%\")\n",
        "print(f\"Precision: {precision*100:.3f}\"+\"%\")\n",
        "print(f\"Recall: {recall*100:.3f}\"+\"%\")\n",
        "print(f\"F1 Score: {f1*100:.3f}\"+\"%\")\n",
        "\n",
        "# Plot accuracy vs. data samples\n",
        "n_samples = len(y_test)\n",
        "x = np.arange(n_samples)\n",
        "accs = np.zeros(n_samples)\n",
        "for i in range(n_samples):\n",
        "    accs[i] = accuracy_score(y_trues[: i + 1], y_preds[: i + 1])\n",
        "plt.plot(x, accs)\n",
        "for drift_index in drift_indexes:\n",
        "    plt.axvline(x=drift_index, linestyle=\"--\", color=\"r\")\n",
        "plt.title(\"Frouros Model - DDM\")\n",
        "plt.xlabel(\"Data Samples\")\n",
        "plt.ylabel(\"Accuracy\")\n",
        "plt.show()"
      ]
    }
  ]
}