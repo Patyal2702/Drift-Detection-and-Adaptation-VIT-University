{
  "nbformat": 4,
  "nbformat_minor": 0,
  "metadata": {
    "colab": {
      "provenance": [],
      "authorship_tag": "ABX9TyNHJSgoMXFLy1VL+YV07mFW",
      "include_colab_link": true
    },
    "kernelspec": {
      "name": "python3",
      "display_name": "Python 3"
    },
    "language_info": {
      "name": "python"
    }
  },
  "cells": [
    {
      "cell_type": "markdown",
      "metadata": {
        "id": "view-in-github",
        "colab_type": "text"
      },
      "source": [
        "<a href=\"https://colab.research.google.com/github/mehtasaurav/Drift-Detection-and-Adaptation-VIT-University/blob/main/Induce_drift.ipynb\" target=\"_parent\"><img src=\"https://colab.research.google.com/assets/colab-badge.svg\" alt=\"Open In Colab\"/></a>"
      ]
    },
    {
      "cell_type": "code",
      "execution_count": null,
      "metadata": {
        "id": "L_if8VTEf5rs"
      },
      "outputs": [],
      "source": [
        "def InduceDrift(drift_percentage):        \n",
        "        noise_percentage = drift_percentage\n",
        "        num_noise_samples = int(len(X_test) * noise_percentage)\n",
        "        noise_indices = np.random.choice(len(X_test), size=num_noise_samples, replace=False)\n",
        "        X_test_noisy = X_test.copy()\n",
        "        X_test_noisy.iloc[noise_indices] = np.random.rand(num_noise_samples, X_test.shape[1])\n",
        "\n",
        "        # Train the random forest model on the training set\n",
        "        model = RandomForestClassifier(n_estimators=100, max_depth=5)\n",
        "        model.fit(X_train, y_train)\n",
        "\n",
        "        # Evaluate the accuracy of the model on the original test set\n",
        "        y_pred_original = model.predict(X_test)\n",
        "        accuracy_original = accuracy_score(y_test, y_pred_original)\n",
        "        print(\"Accuracy (Original Test Set):\", accuracy_original * 100, \"%\")\n",
        "\n",
        "        # Evaluate the accuracy of the model on the noisy test set\n",
        "        y_pred_noisy = model.predict(X_test_noisy)\n",
        "        accuracy_noisy = accuracy_score(y_test, y_pred_noisy)\n",
        "        print(\"Accuracy (Noisy Test Set):\", accuracy_noisy * 100, \"%\")\n",
        "\n",
        "        # Calculate time taken for prediction\n",
        "        start = time.time()\n",
        "        y_pred_original = model.predict(X_test)\n",
        "        end = time.time()\n",
        "        total_time_original = end - start\n",
        "\n",
        "        start = time.time()\n",
        "        y_pred_noisy = model.predict(X_test_noisy)\n",
        "        end = time.time()\n",
        "        total_time_noisy = end - start\n",
        "\n",
        "        # Create real-time accuracy plot\n",
        "        plt.figure(figsize=(12, 7.5))\n",
        "        sns.set_style(\"darkgrid\")\n",
        "\n",
        "        t = range(len(X_test))\n",
        "        accuracy_values_original = [accuracy_original * 100] * len(X_test)\n",
        "        accuracy_values_noisy = [accuracy_noisy * 100] * len(X_test)\n",
        "\n",
        "        plt.plot(t, accuracy_values_original, '-b', linewidth=2, label='Original Test Set')\n",
        "        plt.plot(t, accuracy_values_noisy, '-r', linewidth=2, label='Noisy Test Set')\n",
        "        plt.legend(loc='lower right')\n",
        "        plt.title('Real-time Accuracy Comparison', fontsize=15)\n",
        "        plt.xlabel('Number of samples')\n",
        "        plt.ylabel('Accuracy (%)')\n",
        "\n",
        "        # Display accuracy and time taken\n",
        "        text_original = f'Original Test Set Accuracy: {accuracy_original * 100:.2f}%\\nTime Taken: {total_time_original:.2f}s'\n",
        "        text_noisy = f'Noisy Test Set Accuracy: {accuracy_noisy * 100:.2f}%\\nTime Taken: {total_time_noisy:.2f}s'\n",
        "        plt.text(0.02, 0.95, text_original, transform=plt.gca().transAxes, fontsize=12)\n",
        "        plt.text(0.02, 0.88, text_noisy, transform=plt.gca().transAxes, fontsize=12)\n",
        "\n",
        "        plt.show()\n"
      ]
    }
  ]
}