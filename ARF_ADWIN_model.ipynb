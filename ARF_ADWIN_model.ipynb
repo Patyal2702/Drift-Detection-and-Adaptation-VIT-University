{
  "nbformat": 4,
  "nbformat_minor": 0,
  "metadata": {
    "colab": {
      "provenance": [],
      "authorship_tag": "ABX9TyP71ErK4mvnrX8LLL2MEFNZ",
      "include_colab_link": true
    },
    "kernelspec": {
      "name": "python3",
      "display_name": "Python 3"
    },
    "language_info": {
      "name": "python"
    }
  },
  "cells": [
    {
      "cell_type": "markdown",
      "metadata": {
        "id": "view-in-github",
        "colab_type": "text"
      },
      "source": [
        "<a href=\"https://colab.research.google.com/github/mehtasaurav/Drift-Detection-and-Adaptation-VIT-University/blob/main/ARF_ADWIN_model.ipynb\" target=\"_parent\"><img src=\"https://colab.research.google.com/assets/colab-badge.svg\" alt=\"Open In Colab\"/></a>"
      ]
    },
    {
      "cell_type": "code",
      "execution_count": null,
      "metadata": {
        "id": "i6HynXKlt8bh"
      },
      "outputs": [],
      "source": [
        "%%time\n",
        "# Use the Adaptive Random Forest (ARF) model with ADWIN drift detector\n",
        "name1 = \"ARF-ADWIN model\"\n",
        "model1 = ensemble.AdaptiveRandomForestClassifier(n_models = 3, drift_detector = ADWIN()) # Define the model\n",
        "t, m1 = adaptive_learning(model1, X_train, y_train, X_test, y_test_noisy) # Learn the model on the dataset\n",
        "acc_fig(t, m1, name1) # Draw the figure of how the real-time accuracy changes with the number of samples"
      ]
    }
  ]
}