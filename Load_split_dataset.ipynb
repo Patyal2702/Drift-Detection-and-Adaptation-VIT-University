{
  "nbformat": 4,
  "nbformat_minor": 0,
  "metadata": {
    "colab": {
      "provenance": [],
      "authorship_tag": "ABX9TyNCInYxrF4rgegctXZbMBg3",
      "include_colab_link": true
    },
    "kernelspec": {
      "name": "python3",
      "display_name": "Python 3"
    },
    "language_info": {
      "name": "python"
    }
  },
  "cells": [
    {
      "cell_type": "markdown",
      "metadata": {
        "id": "view-in-github",
        "colab_type": "text"
      },
      "source": [
        "<a href=\"https://colab.research.google.com/github/mehtasaurav/Drift-Detection-and-Adaptation-VIT-University/blob/main/Load_split_dataset.ipynb\" target=\"_parent\"><img src=\"https://colab.research.google.com/assets/colab-badge.svg\" alt=\"Open In Colab\"/></a>"
      ]
    },
    {
      "cell_type": "code",
      "execution_count": null,
      "metadata": {
        "id": "OClKOJor6Mau"
      },
      "outputs": [],
      "source": [
        "np.random.seed(seed=31)\n",
        "X = df.drop(['Label',],axis=1)\n",
        "y = df['Label']\n",
        "(\n",
        "    X_train,\n",
        "    X_test,\n",
        "    y_train,\n",
        "    y_test,\n",
        ") = train_test_split(X, y, train_size=0.8, random_state=31)\n",
        "\n",
        "# Split the dataset into a training set and a test set\n",
        "X_train, X_test, y_train, y_test = train_test_split(df, df[\"Label\"], test_size=0.2)\n",
        "\n",
        "# Split your dataset into train and test sets\n",
        "train_ratio = 0.8\n",
        "train_size = int(train_ratio * len(df))\n",
        "train_data = df.iloc[:train_size, :]\n",
        "test_data = df.iloc[train_size:, :]\n",
        "X_test_noisy = X_test\n",
        "y_test_noisy = y_test\n"
      ]
    }
  ]
}