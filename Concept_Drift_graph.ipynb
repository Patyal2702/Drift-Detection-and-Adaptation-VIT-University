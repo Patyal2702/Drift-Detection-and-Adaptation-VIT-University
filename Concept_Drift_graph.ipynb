{
  "nbformat": 4,
  "nbformat_minor": 0,
  "metadata": {
    "colab": {
      "provenance": [],
      "authorship_tag": "ABX9TyO4seyBWVPuq6gvhkDZKhI0",
      "include_colab_link": true
    },
    "kernelspec": {
      "name": "python3",
      "display_name": "Python 3"
    },
    "language_info": {
      "name": "python"
    }
  },
  "cells": [
    {
      "cell_type": "markdown",
      "metadata": {
        "id": "view-in-github",
        "colab_type": "text"
      },
      "source": [
        "<a href=\"https://colab.research.google.com/github/mehtasaurav/Drift-Detection-and-Adaptation-VIT-University/blob/main/Concept_Drift_graph.ipynb\" target=\"_parent\"><img src=\"https://colab.research.google.com/assets/colab-badge.svg\" alt=\"Open In Colab\"/></a>"
      ]
    },
    {
      "cell_type": "code",
      "execution_count": null,
      "metadata": {
        "id": "_WhPh4uvTimC"
      },
      "outputs": [],
      "source": [
        "# Define the range of noise levels to test\n",
        "noise_levels = [0, 0.1, 0.2, 0.3]\n",
        "\n",
        "# Train the random forest model on the original training set\n",
        "X_train = train_data.drop('Label', axis=1)\n",
        "y_train = train_data['Label']\n",
        "model = RandomForestClassifier(n_estimators=100, max_depth=5)\n",
        "model.fit(X_train, y_train)\n",
        "\n",
        "# Evaluate the accuracy of the model on the original test set\n",
        "X_test = test_data.drop('Label', axis=1)\n",
        "y_test = test_data['Label']\n",
        "y_pred_original = model.predict(X_test)\n",
        "accuracy_original = accuracy_score(y_test, y_pred_original)\n",
        "\n",
        "# Evaluate the accuracy of the model on test sets with different levels of noise\n",
        "accuracies = [accuracy_original]\n",
        "for noise_level in noise_levels[1:]:\n",
        "    num_noise_samples = int(len(y_test) * noise_level)\n",
        "    noise_indices = np.random.choice(len(y_test), size=num_noise_samples, replace=False)\n",
        "    y_test_noisy = y_test.copy()\n",
        "    y_test_noisy.iloc[noise_indices] = np.random.choice(np.unique(y_test), size=num_noise_samples)\n",
        "    y_pred_noisy = model.predict(X_test)\n",
        "    accuracy_noisy = accuracy_score(y_test_noisy, y_pred_noisy)\n",
        "    accuracies.append(accuracy_noisy)\n",
        "\n",
        "# Plot the results\n",
        "plt.plot(noise_levels, accuracies, '-o')\n",
        "plt.xlabel('Noise level')\n",
        "plt.ylabel('Accuracy')\n",
        "plt.title('Accuracy vs. Noise level')\n",
        "plt.show()\n"
      ]
    }
  ]
}