{
  "nbformat": 4,
  "nbformat_minor": 0,
  "metadata": {
    "colab": {
      "provenance": [],
      "authorship_tag": "ABX9TyPU8imIJaVhgxsb/HVtlfUM",
      "include_colab_link": true
    },
    "kernelspec": {
      "name": "python3",
      "display_name": "Python 3"
    },
    "language_info": {
      "name": "python"
    }
  },
  "cells": [
    {
      "cell_type": "markdown",
      "metadata": {
        "id": "view-in-github",
        "colab_type": "text"
      },
      "source": [
        "<a href=\"https://colab.research.google.com/github/mehtasaurav/Drift-Detection-and-Adaptation-VIT-University/blob/main/Data_Drift_graph.ipynb\" target=\"_parent\"><img src=\"https://colab.research.google.com/assets/colab-badge.svg\" alt=\"Open In Colab\"/></a>"
      ]
    },
    {
      "cell_type": "code",
      "execution_count": null,
      "metadata": {
        "id": "qZvvBl3i9XI8"
      },
      "outputs": [],
      "source": [
        "# Define the range of noise levels to test\n",
        "noise_levels = [0, 0.1, 0.2, 0.3]\n",
        "\n",
        "# Train the random forest model on the original training set\n",
        "\n",
        "model = RandomForestClassifier(n_estimators=100, max_depth=5)\n",
        "model.fit(X_train, y_train)\n",
        "\n",
        "# Evaluate the accuracy of the model on the original test set\n",
        "\n",
        "y_pred_original = model.predict(X_test)\n",
        "accuracy_original = accuracy_score(y_test, y_pred_original)\n",
        "\n",
        "# Evaluate the accuracy of the model on test sets with different levels of noise\n",
        "accuracies = [accuracy_original]\n",
        "for noise_level in noise_levels[1:]:\n",
        "    num_noise_samples = int(len(X_test) * noise_level)\n",
        "    noise_indices = np.random.choice(len(X_test), size=num_noise_samples, replace=False)\n",
        "    X_test_noisy = X_test.copy()\n",
        "    X_test_noisy.iloc[noise_indices] = np.random.rand(num_noise_samples, X_test.shape[1])\n",
        "    y_pred_noisy = model.predict(X_test_noisy)\n",
        "    accuracy_noisy = accuracy_score(y_test, y_pred_noisy)\n",
        "    accuracies.append(accuracy_noisy)\n",
        "\n",
        "# Plot the results\n",
        "plt.plot(noise_levels, accuracies, '-o')\n",
        "plt.xlabel('Noise level')\n",
        "plt.ylabel('Accuracy')\n",
        "plt.title('Accuracy vs. Noise level')\n",
        "plt.show()\n"
      ]
    }
  ]
}